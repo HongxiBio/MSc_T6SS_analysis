datasets download genome taxon 'Campylobacter jejuni' --assembly-level complete,scaffold --dehydrated --include genome,protein --filename Campylobacter-jejuni-data.zip
datasets download genome taxon 'Campylobacter jejuni' --assembly-level complete,scaffold --dehydrated --include genome,protein --filename Campylobacter-jejuni-data.zip

datasets download genome taxon 'Campylobacter jejuni' --assembly-level complete --filename CJ_genome.zip

datasets download genome taxon 'Campylobacter jejuni' --assembly-level complete,scaffold --dehydrated --filename Campylobacter-jejuni-data.zip


datasets download genome taxon 'Campylobacter jejuni' --assembly-level complete,scaffold --include genome,protein,cds,gff3 --dehydrated --assembly-source RefSeq --filename Campylobacter-jejuni-RefSeq.zip

unzip Campylobacter-jejuni-RefSeq.zip -d CJ_RefSeq

datasets rehydrate --directory CJ_RefSeq/


makeblastdb -in librarySeq.fna -dbtype nucl -parse_seqids

blastn -db librarySeq.fna -query /home/vader/Documents/MSc-project/T6SS_reference/T6SS-ref.fasta -outfmt "10 delim=@ salltitles std qcovs qcovhsp qcovus" -out /home/vader/Documents/MSc-project/Results/T6SS_blast2.csv


dataformat excel genome --fields assminfo-name,organism-name,organism-tax-id,accession,current-accession,wgs-project-accession,assminfo-level,assminfo-sequencing-tech,assminfo-type,assmstats-gaps-between-scaffolds-count,assmstats-contig-n50,assminfo-status,ani-check-status,ani-best-ani-match-organism --package /home/vader/Documents/MSc-project/CJ_RefSeq/Campylobacter-jejuni-RefSeq.zip --outputfile summary2.xlsx

datasets download genome taxon "Campylobacter jejuni" --dehydrated --assembly-level scaffold,chromosome,complete --include genome,protein,cds,gff3 --filename CJ-full-database.zip


dataformat excel genome --fields assminfo-name,organism-name,accession,current-accession,assminfo-level,source_database,assminfo-sequencing-tech,assminfo-type,assmstats-number-of-contigs,assmstats-contig-n50,assmstats-total-sequence-len,assminfo-status,ani-check-status,ani-best-ani-match-ani,ani-best-ani-match-organism --package CJ-full-database.zip --outputfile summary1.xlsx

makeblastdb -in librarySeq.fna -dbtype nucl -parse_seqids -max_file_sz 4GB

tblastn -db /home/vader/Documents/MSc-project/CJ-full-database/genome_library/librarySeq.fna -query /home/vader/Documents/MSc-project/T6SS_reference/T6SS-protein.fasta -outfmt "10 delim=@ salltitles sallseqid qseqid sseqid std qcovs qcovhsp" -out /home/vader/Documents/MSc-project/Results/T6SS_protein_blast2.csv


tblastn -db /home/vader/Documents/MSc-project/CJ-full-database/genome_library/librarySeq.fna -query /home/vader/Documents/MSc-project/T6SS_reference/T6SS-protein.fasta -outfmt "10 delim=@ salltitles qseqid sseqid std qcovs qcovhsp" -evalue 100 -num_threads 13 -out /home/vader/Documents/MSc-project/Results/T6SS_protein_blast3.csv

tblastn -db /home/vader/Documents/MSc-project/CJ-full-database/genome_library/librarySeq.fna -query /home/vader/Documents/MSc-project/T6SS_reference/T6SS-protein.fasta -outfmt "10 delim=@ std qcovs qcovhsp" -evalue 100 -num_threads 13 -out /home/vader/Documents/MSc-project/Results/T6SS_protein_blast4.csv

tblastn -db /home/vader/Documents/MSc-project/CJ-full-database/genome_library/librarySeq.fna -query /home/vader/Documents/MSc-project/T6SS_reference/T6SS-protein.fasta -outfmt "10 delim=@ salltitles std qcovs qcovhsp" -evalue 10 -num_threads 13 -out /home/vader/Documents/MSc-project/Results/T6SS_protein_blast6.csv

tblastn -db /home/vader/Documents/MSc-project/CJ-full-database/genome_library/librarySeq.fna -query /home/vader/Documents/MSc-project/T6SS_reference/T6SS-protein.fasta -outfmt "10 delim=@ stitle sblastname std qcovs qcovhsp" -evalue 10 -num_threads 13 -out /home/vader/Documents/MSc-project/Results/T6SS_protein_blast7.csv


dataformat excel genome --fields organism-name,organism-infraspecific-strain,assminfo-name,accession,current-accession,assminfo-level,source_database,assmstats-number-of-contigs,assmstats-contig-n50,assmstats-total-sequence-len,assminfo-status,ani-check-status,ani-best-ani-match-ani,ani-best-ani-match-organism --package CJ-full-database.zip --outputfile summary4.xlsx


tblastn -db /home/vader/Documents/MSc-project/CJ-full-database/genome_library/RefSeq_library/RefSeq_library.fna -query /home/vader/Documents/MSc-project/T6SS_reference/T6SS-protein.fasta -outfmt "10 delim=@ stitle sblastname std qcovs qcovhsp" -evalue 10 -num_threads 13 -out /home/vader/Documents/MSc-project/Results/RefSeq_T6SS_protein_blast1.csv

blastn -db /home/vader/Documents/MSc-project/CJ-full-database/genome_library/RefSeq_library/RefSeq_library.fna -query /home/vader/Documents/MSc-project/CJIE_genes/CJIE_genes.fasta -outfmt "10 delim=@ stitle std qcovs qcovhsp" -evalue 10 -num_threads 12 -out /home/vader/Documents/MSc-project/Results/CJIE_positive_tblastn1.csv

makeblastdb -in RefSeq_library.fna -dbtype nucl -parse_seqids

tblastn -db /home/vader/Documents/MSc-project/CJ-full-database/genome_library/RefSeq_library_name_modified/RefSeq_library.fna -query /home/vader/Documents/MSc-project/T6SS_reference/T6SS-protein.fasta -outfmt "10 delim=@ stitle sblastname std qcovs qcovhsp" -evalue 10 -num_threads 13 -out /home/vader/Documents/MSc-project/Results/RefSeq_T6SS_protein_blast2.csv

tblastn -db /home/vader/Documents/MSc-project/CJ-full-database/genome_library/RefSeq_library_name_modified/RefSeq_library.fna -query /home/vader/Documents/MSc-project/T6SS_reference/T6SS-protein.fasta -outfmt "10 delim=, std qcovs qcovhsp" -evalue 10 -num_threads 13 -out /home/vader/Documents/MSc-project/Results/RefSeq_T6SS_protein_blast3.csv

blastn -db /home/vader/Documents/MSc-project/CJ-full-database/genome_library/RefSeq_library_name_modified/RefSeq_library.fna -query /home/vader/Documents/MSc-project/CJIE_genes/CJIE_genes.fasta -outfmt "10 delim=, std qcovs qcovhsp" -evalue 10 -num_threads 12 -out /home/vader/Documents/MSc-project/Results/CJIE_positive_tblastn2.csv


blastn -db /home/vader/Documents/MSc-project/CJ_RefSeq/genome_library/refseq_library.fna -query /home/vader/Documents/MSc-project/Campylobacter_jejuni_reference/NCTC11168.fna -outfmt "10 delim=, salltitles std qcovs qcovhsp qlen slen" -evalue 10 -num_threads 12 -out /home/vader/Documents/MSc-project/Results/NCTC_blastn_result1.csv


blastn -db /home/vader/Documents/MSc-project/CJ_RefSeq/genome_library/refseq_library.fna -query /home/vader/Documents/MSc-project/Campylobacter_jejuni_reference/NCTC11168.fna -outfmt "10 delim=, salltitles std qlen slen qseq sseq" -evalue 10 -num_threads 12 -out /home/vader/Documents/MSc-project/Results/NCTC_blastn_result2.csv

blastn -db /home/vader/Documents/MSc-project/CJ_RefSeq/genome_library/refseq_library.fna -query /home/vader/Documents/MSc-project/T6SS_reference/JX436460-T6SS-reference.fna -outfmt "10 delim=, salltitles std qlen slen" -evalue 10 -num_threads 12 -out /home/vader/Documents/MSc-project/Results/T6SS_blast_RefSeq_1.csv


blastn -db /home/vader/Documents/MSc-project_test/data/processed_data/local_library/nctc11168_library/GCF_000009085.1_ASM908v1_genomic.fna -query /home/vader/Documents/MSc-project_test/data/raw_data/RM1221/GCF_000011865.1_ASM1186v1_genomic.fna -outfmt 8 -evalue 6 -num_threads 12 -out /home/vader/Documents/MSc-project_test/Results/RM1221.ASN


blastn -db /home/vader/Documents/MSc-project/data/processed_data/local_library/RefSeq_library/RefSeq_library.fna -query /home/vader/Documents/MSc-project_test/data/raw_data/RM1221/CJPI.fna -outfmt "10 delim=, std qlen slen" -evalue 10 -out /home/vader/Documents/MSc-project_test/Results/CJPI_blast_result1.csv



dataformat excel genome --fields organism-name,organism-infraspecific-strain,assminfo-name,accession,current-accession,assminfo-level,source_database,assmstats-number-of-contigs,assmstats-contig-n50,assmstats-total-sequence-len,assminfo-status,ani-check-status,ani-best-ani-match-ani,ani-best-ani-match-organism --inputfile assembly_data_report.jsonl --outputfile /home/vader/Documents/MSc-project/data/metadata/metadata_for_RefSeq.xlsx

